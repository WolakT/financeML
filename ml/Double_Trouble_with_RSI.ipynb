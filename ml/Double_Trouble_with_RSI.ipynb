{
 "cells": [
  {
   "cell_type": "code",
   "execution_count": 1,
   "id": "ece72aad-ecd9-44b8-9b43-cf951dd0f857",
   "metadata": {},
   "outputs": [],
   "source": [
    "import pandas as pd\n",
    "import sys\n",
    "from datetime import datetime"
   ]
  },
  {
   "cell_type": "code",
   "execution_count": 3,
   "id": "bc90a1ec-d531-49cd-a950-a0d1322b8402",
   "metadata": {},
   "outputs": [],
   "source": [
    "import master_function as mf\n",
    "import numpy as np\n",
    "import pandas as pd\n",
    "import matplotlib.pyplot as plt\n",
    "from keras.models import Sequential\n",
    "from keras.layers import LSTM, Dense, Dropout, BatchNormalization\n",
    "from tensorflow.keras.callbacks import EarlyStopping\n",
    "import pandas_datareader as pdr\n",
    "from master_function import data_preprocessing, plot_train_test_values\n",
    "from master_function import calculate_directional_accuracy\n",
    "from sklearn.metrics import mean_squared_error"
   ]
  },
  {
   "cell_type": "code",
   "execution_count": 7,
   "id": "c0bc3582-36bf-41a2-99fe-ebb2497e9881",
   "metadata": {},
   "outputs": [],
   "source": [
    "import sys"
   ]
  },
  {
   "cell_type": "code",
   "execution_count": null,
   "id": "138f4630-1612-4619-b294-86b363e8842b",
   "metadata": {},
   "outputs": [],
   "source": []
  },
  {
   "cell_type": "code",
   "execution_count": 25,
   "id": "87630356-535a-44aa-9e39-e62e90584c9f",
   "metadata": {},
   "outputs": [],
   "source": [
    "from master_function_MFPR import rsi, atr, ma, add_column, signal_chart_indicator_plot_candles, performance"
   ]
  },
  {
   "cell_type": "code",
   "execution_count": 10,
   "id": "4c6a9c8d-f284-4f5c-a2ee-649966400fd2",
   "metadata": {},
   "outputs": [
    {
     "name": "stdout",
     "output_type": "stream",
     "text": [
      "../papertrading/datasets/BTCUSDT_1m_2024_03_01_2024_04_01.csv\n",
      "../papertrading/datasets/SOLUSDT_1m_2023_01_01_2024_04_01.csv\n",
      "../papertrading/datasets/BTCUSDT_1m_202303_202403.csv\n",
      "../papertrading/datasets/ETHUSDT_1m_2023_01_01_2024_04_01.csv\n",
      "../papertrading/datasets/BTCUSDT_1m_202201_202303.csv\n",
      "../papertrading/datasets/AAPL.csv\n",
      "../papertrading/datasets/BTCUSDT_1m_2024_02_01_2024_03_01.csv\n"
     ]
    }
   ],
   "source": [
    "import os\n",
    "path = \"../papertrading/datasets/\"\n",
    "for directory in os.listdir(path):\n",
    "    print(path + directory)"
   ]
  },
  {
   "cell_type": "code",
   "execution_count": 11,
   "id": "36a5f3c1-d14d-496f-a8fa-27cc38f2c428",
   "metadata": {},
   "outputs": [
    {
     "data": {
      "text/html": [
       "<div>\n",
       "<style scoped>\n",
       "    .dataframe tbody tr th:only-of-type {\n",
       "        vertical-align: middle;\n",
       "    }\n",
       "\n",
       "    .dataframe tbody tr th {\n",
       "        vertical-align: top;\n",
       "    }\n",
       "\n",
       "    .dataframe thead th {\n",
       "        text-align: right;\n",
       "    }\n",
       "</style>\n",
       "<table border=\"1\" class=\"dataframe\">\n",
       "  <thead>\n",
       "    <tr style=\"text-align: right;\">\n",
       "      <th></th>\n",
       "      <th>Datetime</th>\n",
       "      <th>open</th>\n",
       "      <th>high</th>\n",
       "      <th>low</th>\n",
       "      <th>close</th>\n",
       "      <th>volume</th>\n",
       "    </tr>\n",
       "  </thead>\n",
       "  <tbody>\n",
       "    <tr>\n",
       "      <th>0</th>\n",
       "      <td>2023-02-28 23:00:00+00:00</td>\n",
       "      <td>23160.47</td>\n",
       "      <td>23161.38</td>\n",
       "      <td>23141.24</td>\n",
       "      <td>23143.25</td>\n",
       "      <td>282.02238</td>\n",
       "    </tr>\n",
       "    <tr>\n",
       "      <th>1</th>\n",
       "      <td>2023-02-28 23:01:00+00:00</td>\n",
       "      <td>23144.04</td>\n",
       "      <td>23152.88</td>\n",
       "      <td>23137.32</td>\n",
       "      <td>23143.54</td>\n",
       "      <td>167.94011</td>\n",
       "    </tr>\n",
       "    <tr>\n",
       "      <th>2</th>\n",
       "      <td>2023-02-28 23:02:00+00:00</td>\n",
       "      <td>23143.54</td>\n",
       "      <td>23152.12</td>\n",
       "      <td>23123.18</td>\n",
       "      <td>23143.52</td>\n",
       "      <td>410.11996</td>\n",
       "    </tr>\n",
       "    <tr>\n",
       "      <th>3</th>\n",
       "      <td>2023-02-28 23:03:00+00:00</td>\n",
       "      <td>23143.06</td>\n",
       "      <td>23157.34</td>\n",
       "      <td>23141.81</td>\n",
       "      <td>23151.08</td>\n",
       "      <td>223.82182</td>\n",
       "    </tr>\n",
       "    <tr>\n",
       "      <th>4</th>\n",
       "      <td>2023-02-28 23:04:00+00:00</td>\n",
       "      <td>23151.99</td>\n",
       "      <td>23153.67</td>\n",
       "      <td>23138.63</td>\n",
       "      <td>23146.11</td>\n",
       "      <td>179.56661</td>\n",
       "    </tr>\n",
       "  </tbody>\n",
       "</table>\n",
       "</div>"
      ],
      "text/plain": [
       "                    Datetime      open      high       low     close  \\\n",
       "0  2023-02-28 23:00:00+00:00  23160.47  23161.38  23141.24  23143.25   \n",
       "1  2023-02-28 23:01:00+00:00  23144.04  23152.88  23137.32  23143.54   \n",
       "2  2023-02-28 23:02:00+00:00  23143.54  23152.12  23123.18  23143.52   \n",
       "3  2023-02-28 23:03:00+00:00  23143.06  23157.34  23141.81  23151.08   \n",
       "4  2023-02-28 23:04:00+00:00  23151.99  23153.67  23138.63  23146.11   \n",
       "\n",
       "      volume  \n",
       "0  282.02238  \n",
       "1  167.94011  \n",
       "2  410.11996  \n",
       "3  223.82182  \n",
       "4  179.56661  "
      ]
     },
     "execution_count": 11,
     "metadata": {},
     "output_type": "execute_result"
    }
   ],
   "source": [
    "df = pd.read_csv(\"../papertrading/datasets/BTCUSDT_1m_202303_202403.csv\")\n",
    "df.head()"
   ]
  },
  {
   "cell_type": "code",
   "execution_count": 17,
   "id": "224cb5ea-cdfb-484f-989f-bbed1e068fbf",
   "metadata": {},
   "outputs": [
    {
     "data": {
      "text/plain": [
       "array([[23160.47, 23161.38, 23141.24, 23143.25],\n",
       "       [23144.04, 23152.88, 23137.32, 23143.54],\n",
       "       [23143.54, 23152.12, 23123.18, 23143.52],\n",
       "       ...,\n",
       "       [70779.99, 70780.0, 70779.99, 70779.99],\n",
       "       [70780.0, 70780.0, 70720.59, 70730.95],\n",
       "       [70725.18, 70856.0, 70725.18, 70856.0]], dtype=object)"
      ]
     },
     "execution_count": 17,
     "metadata": {},
     "output_type": "execute_result"
    }
   ],
   "source": [
    "crypto = df.to_numpy()\n",
    "crypto.shape\n",
    "crypto = crypto[:, 1 : 5]\n",
    "crypto.shape\n",
    "crypto"
   ]
  },
  {
   "cell_type": "code",
   "execution_count": 26,
   "id": "7a7a15ae-b81e-426f-84f9-add12a3ac05a",
   "metadata": {},
   "outputs": [
    {
     "name": "stdout",
     "output_type": "stream",
     "text": [
      "Hit Ratio         =  51.22952629023001\n",
      "Profit factor     =  0.95\n",
      "Realized RR       =  0.9\n",
      "Number of Trades  =  22651\n"
     ]
    },
    {
     "data": {
      "image/png": "[encoded data removed]",
      "text/plain": [
       "<Figure size 1000x500 with 2 Axes>"
      ]
     },
     "metadata": {},
     "output_type": "display_data"
    }
   ],
   "source": [
    "# Choosing the asset\n",
    "\n",
    "pair = 0\n",
    "\n",
    "# Time Frame\n",
    "lookback = 10\n",
    "lookback_rsi = 14\n",
    "\n",
    "# Importing the asset as an array\n",
    "my_data = crypto\n",
    "# Calculating the ATR\n",
    "my_data = atr(my_data, lookback, 1, 2, 3, 4)\n",
    "my_data = rsi(my_data, lookback_rsi, 3, 5)\n",
    "\n",
    "\n",
    "# Creating the signal function\n",
    "def signal(data, open_column, high_column, low_column, close_column, atr_column, rsi_column, buy_column, sell_column):\n",
    "\n",
    "    data = add_column(data, 5)    \n",
    "    \n",
    "    for i in range(len(data)):  \n",
    "        \n",
    "       try:\n",
    "           \n",
    "           # Bullish pattern\n",
    "           if data[i, close_column] > data[i, open_column] and \\\n",
    "              data[i, close_column] > data[i - 1, close_column] and \\\n",
    "              data[i - 1, close_column] > data[i - 1, open_column] and \\\n",
    "              data[i, high_column] - data[i, low_column] > (2 * data[i - 1, atr_column]) and \\\n",
    "              data[i, close_column] - data[i, open_column] > data[i - 1, close_column] - data[i - 1, open_column] and \\\n",
    "              data[i, buy_column] == 0 and \\\n",
    "              data[i, rsi_column] > 50:\n",
    "                  \n",
    "                    data[i + 1, buy_column] = 1 \n",
    "                    \n",
    "           # Bearish pattern\n",
    "           elif data[i, close_column] < data[i, open_column] and \\\n",
    "              data[i, close_column] < data[i - 1, close_column] and \\\n",
    "              data[i - 1, close_column] < data[i - 1, open_column] and \\\n",
    "              data[i, high_column] - data[i, low_column] > (2 * data[i - 1, atr_column]) and \\\n",
    "              data[i, open_column] - data[i, close_column] > data[i - 1, open_column] - data[i - 1, close_column] and \\\n",
    "              data[i, sell_column] == 0 and \\\n",
    "              data[i, rsi_column] < 50:\n",
    "                  \n",
    "                    data[i + 1, sell_column] = -1 \n",
    "                    \n",
    "       except IndexError:\n",
    "            \n",
    "            pass\n",
    "        \n",
    "    return data\n",
    "\n",
    "# Calling the signal function\n",
    "my_data = signal(my_data, 0, 1, 2, 3, 4, 5, 6, 7)\n",
    "\n",
    "# Charting the latest signals\n",
    "signal_chart_indicator_plot_candles(my_data, \n",
    "                                    0, \n",
    "                                    5, \n",
    "                                    6, \n",
    "                                    7, \n",
    "                                    barriers = False,  \n",
    "                                    window = 250)\n",
    "plt.axhline(y = 50, color = 'black', linewidth = 1, linestyle = 'dashed')\n",
    "\n",
    "# Performance\n",
    "my_data = performance(my_data, 0, 6, 7, 8, 9, 10)"
   ]
  },
  {
   "cell_type": "code",
   "execution_count": 34,
   "id": "4a60945d-94e4-4d29-a1d1-7fa9376d3ab2",
   "metadata": {},
   "outputs": [
    {
     "name": "stdout",
     "output_type": "stream",
     "text": [
      "        data  moving_average\n",
      "0   1.764052             NaN\n",
      "1   0.400157             NaN\n",
      "2   0.978738             NaN\n",
      "3   2.240893             NaN\n",
      "4   1.867558             NaN\n",
      "..       ...             ...\n",
      "95  0.706573             NaN\n",
      "96  0.010500             NaN\n",
      "97  1.785870             NaN\n",
      "98  0.126912             NaN\n",
      "99  0.401989        0.059808\n",
      "\n",
      "[100 rows x 2 columns]\n"
     ]
    }
   ],
   "source": [
    "import pandas as pd\n",
    "import numpy as np\n",
    "\n",
    "# Create a sample DataFrame with random data\n",
    "np.random.seed(0)  # For reproducibility\n",
    "df = pd.DataFrame({\n",
    "    'data': np.random.randn(100)  # 1000 random numbers\n",
    "})\n",
    "\n",
    "# Calculate the moving average with a window of 100 values\n",
    "df['moving_average'] = df['data'].rolling(window=100).mean()\n",
    "\n",
    "print(df.head(150))  # Printing the first 150 rows to see some of the moving averages\n"
   ]
  },
  {
   "cell_type": "code",
   "execution_count": 36,
   "id": "7aedd852-644c-4f40-bcfa-fc9bfa11187c",
   "metadata": {},
   "outputs": [
    {
     "data": {
      "text/plain": [
       "97         NaN\n",
       "98         NaN\n",
       "99    0.059808\n",
       "Name: moving_average, dtype: float64"
      ]
     },
     "execution_count": 36,
     "metadata": {},
     "output_type": "execute_result"
    }
   ],
   "source": [
    "df['moving_average'][97:100]"
   ]
  },
  {
   "cell_type": "code",
   "execution_count": null,
   "id": "3b3243b1-44ea-4ee0-8f1c-65576a313e7c",
   "metadata": {},
   "outputs": [],
   "source": []
  }
 ],
 "metadata": {
  "kernelspec": {
   "display_name": "Python 3 (ipykernel)",
   "language": "python",
   "name": "python3"
  },
  "language_info": {
   "codemirror_mode": {
    "name": "ipython",
    "version": 3
   },
   "file_extension": ".py",
   "mimetype": "text/x-python",
   "name": "python",
   "nbconvert_exporter": "python",
   "pygments_lexer": "ipython3",
   "version": "3.8.10"
  }
 },
 "nbformat": 4,
 "nbformat_minor": 5
}
